{
  "nbformat": 4,
  "nbformat_minor": 0,
  "metadata": {
    "colab": {
      "provenance": [],
      "mount_file_id": "1DCNYWY83TBnjUwsEgH3qx7Jz7I3OXMXf",
      "authorship_tag": "ABX9TyNtAxG/smxh54/tksDB0oWF",
      "include_colab_link": true
    },
    "kernelspec": {
      "name": "python3",
      "display_name": "Python 3"
    },
    "language_info": {
      "name": "python"
    }
  },
  "cells": [
    {
      "cell_type": "markdown",
      "metadata": {
        "id": "view-in-github",
        "colab_type": "text"
      },
      "source": [
        "<a href=\"https://colab.research.google.com/github/nericovich/project/blob/main/main.ipynb\" target=\"_parent\"><img src=\"https://colab.research.google.com/assets/colab-badge.svg\" alt=\"Open In Colab\"/></a>"
      ]
    },
    {
      "cell_type": "markdown",
      "source": [
        "# Проект для задачи Яндекс Акедемии \"Анализ экологических проблем\""
      ],
      "metadata": {
        "id": "dbamYiD5_n-n"
      }
    },
    {
      "cell_type": "markdown",
      "source": [
        "### На заводе по производству полезного полимера ООО “Synthesising the future“ обратились за помощью в исследовании зависимостей вредных выбросов от производственных показателей. Требуется повести анализ данных и построить выводы о том, какой этап имеет высокий риск создать повышенное содержания вредного газа.\n"
      ],
      "metadata": {
        "id": "oxKs6Fm8_sUA"
      }
    },
    {
      "cell_type": "markdown",
      "source": [],
      "metadata": {
        "id": "tbVkacQg_sBn"
      }
    },
    {
      "cell_type": "markdown",
      "source": [
        "## Импорты"
      ],
      "metadata": {
        "id": "l5GVPPFk_bTW"
      }
    },
    {
      "cell_type": "code",
      "execution_count": null,
      "metadata": {
        "id": "rnuEgv8p_BNO"
      },
      "outputs": [],
      "source": [
        "import pandas as pd\n",
        "import seaborn as sns\n",
        "from scipy.stats import mannwhitneyu, ttest_ind, shapiro"
      ]
    },
    {
      "cell_type": "code",
      "source": [
        "df = pd.read_csv('/content/drive/MyDrive/АД  2  Экология/data.csv', sep=',', skipinitialspace=True)"
      ],
      "metadata": {
        "id": "dCRE_HDaGhcf"
      },
      "execution_count": null,
      "outputs": []
    },
    {
      "cell_type": "markdown",
      "source": [
        "## Main\n"
      ],
      "metadata": {
        "id": "MRzuj1_qHKb8"
      }
    },
    {
      "cell_type": "markdown",
      "source": [
        "### Обработка"
      ],
      "metadata": {
        "id": "dYFHiWzCHW-H"
      }
    },
    {
      "cell_type": "code",
      "source": [
        "df.columns = df.columns.str.lower().str.replace(' ', '_')"
      ],
      "metadata": {
        "id": "UgkXDVyWHPIZ"
      },
      "execution_count": null,
      "outputs": []
    },
    {
      "cell_type": "markdown",
      "source": [
        "### Распределние"
      ],
      "metadata": {
        "id": "J0nbgEaLHle0"
      }
    },
    {
      "cell_type": "code",
      "source": [
        "sns.kdeplot(data=df, x='stage_1_output_konv_avd', fill=True)"
      ],
      "metadata": {
        "colab": {
          "base_uri": "https://localhost:8080/",
          "height": 467
        },
        "id": "3PYZWOzMHqlj",
        "outputId": "43fa5a14-f227-437a-ff38-f703433ae3db"
      },
      "execution_count": null,
      "outputs": [
        {
          "output_type": "execute_result",
          "data": {
            "text/plain": [
              "<Axes: xlabel='stage_1_output_konv_avd', ylabel='Density'>"
            ]
          },
          "metadata": {},
          "execution_count": 4
        },
        {
          "output_type": "display_data",
          "data": {
            "text/plain": [
              "<Figure size 640x480 with 1 Axes>"
            ],
            "image/png": "[encoded data removed]"
          },
          "metadata": {}
        }
      ]
    },
    {
      "cell_type": "code",
      "source": [
        "sns.kdeplot(data=df, x='stage_2_input_water_sum', fill=True)"
      ],
      "metadata": {
        "id": "eg-zd2R8IJZ-"
      },
      "execution_count": null,
      "outputs": []
    },
    {
      "cell_type": "code",
      "source": [
        "sns.kdeplot(data=df, x='stage_2_output_bottom_pressure', fill=True)"
      ],
      "metadata": {
        "id": "nRKFZdaVIJxx"
      },
      "execution_count": null,
      "outputs": []
    },
    {
      "cell_type": "code",
      "source": [
        "sns.kdeplot(data=df, x='stage_2_output_bottom_temp', fill=True)"
      ],
      "metadata": {
        "id": "LtytmMdwIJ_f"
      },
      "execution_count": null,
      "outputs": []
    },
    {
      "cell_type": "code",
      "source": [
        "sns.kdeplot(data=df, x='stage_2_output_top_pressure', fill=True)"
      ],
      "metadata": {
        "id": "1JB21UPHIKLd"
      },
      "execution_count": null,
      "outputs": []
    },
    {
      "cell_type": "code",
      "source": [
        "sns.kdeplot(data=df, x='stage_2_output_top_pressure_at_end', fill=True)"
      ],
      "metadata": {
        "id": "k6BEsk7zIPeI"
      },
      "execution_count": null,
      "outputs": []
    },
    {
      "cell_type": "code",
      "source": [
        "sns.kdeplot(data=df, x='stage_3_input_pressure', fill=True)"
      ],
      "metadata": {
        "id": "evq33mFzIQvH"
      },
      "execution_count": null,
      "outputs": []
    },
    {
      "cell_type": "code",
      "source": [
        "sns.kdeplot(data=df, x='stage_3_output_temp_hum_steam', fill=True)"
      ],
      "metadata": {
        "id": "uXnOcxEnIR0e"
      },
      "execution_count": null,
      "outputs": []
    },
    {
      "cell_type": "code",
      "source": [
        "sns.kdeplot(data=df, x='stage_3_output_temp_top', fill=True)"
      ],
      "metadata": {
        "id": "7K_enJPYIS66"
      },
      "execution_count": null,
      "outputs": []
    },
    {
      "cell_type": "code",
      "source": [
        "sns.kdeplot(data=df, x='stage_4_input_overheated_steam', fill=True)"
      ],
      "metadata": {
        "id": "XSiwIoV6IT0e"
      },
      "execution_count": null,
      "outputs": []
    },
    {
      "cell_type": "code",
      "source": [
        "sns.kdeplot(data=df, x='stage_4_output_danger_gas', fill=True)"
      ],
      "metadata": {
        "id": "WaoNxMW5IU6q"
      },
      "execution_count": null,
      "outputs": []
    },
    {
      "cell_type": "code",
      "source": [
        "sns.kdeplot(data=df, x='work_shift', fill=True)"
      ],
      "metadata": {
        "id": "OiGvnt-JIWIG"
      },
      "execution_count": null,
      "outputs": []
    }
  ]
}